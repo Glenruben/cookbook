{
 "cells": [
  {
   "cell_type": "markdown",
   "metadata": {},
   "source": [
    "# Arrays - tricks and techniques\n",
    "\n",
    "## Care and feeding of your new array"
   ]
  },
  {
   "cell_type": "markdown",
   "metadata": {},
   "source": [
    "### An example of arrays in types\n",
    "Also, enum string type "
   ]
  },
  {
   "cell_type": "code",
   "execution_count": 5,
   "metadata": {},
   "outputs": [
    {
     "name": "stdout",
     "output_type": "stream",
     "text": [
      "neutral\n"
     ]
    }
   ],
   "source": [
    "type Example = {\n",
    "  title: string,\n",
    "  opinions: Array<{\n",
    "    name: string,\n",
    "    opinion: \"good\" | \"bad\" | \"neutral\"\n",
    "  }>\n",
    "}\n",
    "\n",
    "// This is BOTH only one of the string literals, AND an element in an array. Note middle \"[number]\" type deinition, denoting an element in an array. \n",
    "const opinion: Example[\"opinions\"][number][\"opinion\"] = \"neutral\"\n",
    "\n",
    "console.log(opinion)"
   ]
  }
 ],
 "metadata": {
  "kernelspec": {
   "display_name": "Deno",
   "language": "typescript",
   "name": "deno"
  },
  "language_info": {
   "codemirror_mode": "typescript",
   "file_extension": ".ts",
   "mimetype": "text/x.typescript",
   "name": "typescript",
   "nbconvert_exporter": "script",
   "pygments_lexer": "typescript",
   "version": "5.6.2"
  }
 },
 "nbformat": 4,
 "nbformat_minor": 2
}
